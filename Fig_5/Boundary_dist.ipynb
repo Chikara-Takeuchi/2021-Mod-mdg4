{
 "cells": [
  {
   "cell_type": "code",
   "execution_count": 1,
   "metadata": {},
   "outputs": [],
   "source": [
    "%matplotlib inline\n",
    "import matplotlib.pyplot as plt\n",
    "plt.rcParams['pdf.fonttype'] = 42\n",
    "plt.rcParams['ps.fonttype'] = 42\n",
    "from matplotlib.backends.backend_pdf import PdfPages\n",
    "\n",
    "import seaborn as sns\n",
    "import multiprocess as mp\n",
    "import numpy as np\n",
    "import pandas as pd"
   ]
  },
  {
   "cell_type": "code",
   "execution_count": 2,
   "metadata": {},
   "outputs": [],
   "source": [
    "chromosomes = ['chr2L', 'chr2R', 'chr3L', 'chr3R', 'chr4', 'chrX']\n",
    "resolution_list=[200,400,600,800,1000,2000,4000,10000,20000,50000]"
   ]
  },
  {
   "cell_type": "code",
   "execution_count": 9,
   "metadata": {},
   "outputs": [],
   "source": [
    "bound_data =[]\n",
    "for res in resolution_list:\n",
    "    bound_data.append(pd.read_csv(\"../insulation_score/E_res\"+str(res)+\"_window25_boundary.bed\",\n",
    "                                  sep=\"\\t\",\n",
    "                                  names=[\"chr\",\"start\",\"end\",\"name\",\"score\"]))"
   ]
  },
  {
   "cell_type": "code",
   "execution_count": 10,
   "metadata": {},
   "outputs": [
    {
     "data": {
      "text/html": [
       "<div>\n",
       "<style scoped>\n",
       "    .dataframe tbody tr th:only-of-type {\n",
       "        vertical-align: middle;\n",
       "    }\n",
       "\n",
       "    .dataframe tbody tr th {\n",
       "        vertical-align: top;\n",
       "    }\n",
       "\n",
       "    .dataframe thead th {\n",
       "        text-align: right;\n",
       "    }\n",
       "</style>\n",
       "<table border=\"1\" class=\"dataframe\">\n",
       "  <thead>\n",
       "    <tr style=\"text-align: right;\">\n",
       "      <th></th>\n",
       "      <th>chr</th>\n",
       "      <th>start</th>\n",
       "      <th>end</th>\n",
       "      <th>name</th>\n",
       "      <th>score</th>\n",
       "    </tr>\n",
       "  </thead>\n",
       "  <tbody>\n",
       "    <tr>\n",
       "      <th>0</th>\n",
       "      <td>chr2L</td>\n",
       "      <td>31200</td>\n",
       "      <td>31600</td>\n",
       "      <td>boundary</td>\n",
       "      <td>0.571634</td>\n",
       "    </tr>\n",
       "    <tr>\n",
       "      <th>1</th>\n",
       "      <td>chr2L</td>\n",
       "      <td>72800</td>\n",
       "      <td>73200</td>\n",
       "      <td>boundary</td>\n",
       "      <td>0.917152</td>\n",
       "    </tr>\n",
       "    <tr>\n",
       "      <th>2</th>\n",
       "      <td>chr2L</td>\n",
       "      <td>102000</td>\n",
       "      <td>102400</td>\n",
       "      <td>boundary</td>\n",
       "      <td>0.458433</td>\n",
       "    </tr>\n",
       "    <tr>\n",
       "      <th>3</th>\n",
       "      <td>chr2L</td>\n",
       "      <td>107600</td>\n",
       "      <td>108000</td>\n",
       "      <td>boundary</td>\n",
       "      <td>0.527935</td>\n",
       "    </tr>\n",
       "    <tr>\n",
       "      <th>4</th>\n",
       "      <td>chr2L</td>\n",
       "      <td>114400</td>\n",
       "      <td>114800</td>\n",
       "      <td>boundary</td>\n",
       "      <td>0.747615</td>\n",
       "    </tr>\n",
       "  </tbody>\n",
       "</table>\n",
       "</div>"
      ],
      "text/plain": [
       "     chr   start     end      name     score\n",
       "0  chr2L   31200   31600  boundary  0.571634\n",
       "1  chr2L   72800   73200  boundary  0.917152\n",
       "2  chr2L  102000  102400  boundary  0.458433\n",
       "3  chr2L  107600  108000  boundary  0.527935\n",
       "4  chr2L  114400  114800  boundary  0.747615"
      ]
     },
     "execution_count": 10,
     "metadata": {},
     "output_type": "execute_result"
    }
   ],
   "source": [
    "bound_data[9].head()"
   ]
  },
  {
   "cell_type": "code",
   "execution_count": 55,
   "metadata": {},
   "outputs": [
    {
     "data": {
      "text/html": [
       "<div>\n",
       "<style scoped>\n",
       "    .dataframe tbody tr th:only-of-type {\n",
       "        vertical-align: middle;\n",
       "    }\n",
       "\n",
       "    .dataframe tbody tr th {\n",
       "        vertical-align: top;\n",
       "    }\n",
       "\n",
       "    .dataframe thead th {\n",
       "        text-align: right;\n",
       "    }\n",
       "</style>\n",
       "<table border=\"1\" class=\"dataframe\">\n",
       "  <thead>\n",
       "    <tr style=\"text-align: right;\">\n",
       "      <th></th>\n",
       "      <th>resolution</th>\n",
       "      <th>length</th>\n",
       "    </tr>\n",
       "  </thead>\n",
       "  <tbody>\n",
       "  </tbody>\n",
       "</table>\n",
       "</div>"
      ],
      "text/plain": [
       "Empty DataFrame\n",
       "Columns: [resolution, length]\n",
       "Index: []"
      ]
     },
     "execution_count": 55,
     "metadata": {},
     "output_type": "execute_result"
    }
   ],
   "source": [
    "length_dist_table = pd.DataFrame(columns=[\"resolution\",\"length\"])\n",
    "length_dist_table"
   ]
  },
  {
   "cell_type": "code",
   "execution_count": 56,
   "metadata": {},
   "outputs": [],
   "source": [
    "for i, res in enumerate(resolution_list):\n",
    "    length_dist = []\n",
    "    length_dist_token = pd.DataFrame(columns=[\"resolution\",\"length\"])\n",
    "    \n",
    "    for index, row in bound_data[i].iterrows():\n",
    "        if index!=0:\n",
    "            if previous_row[\"chr\"]==row[\"chr\"]:\n",
    "                length_dist.append(row[\"start\"]-previous_row[\"start\"])    \n",
    "        previous_row = row\n",
    "\n",
    "    length_dist_token[\"length\"] = length_dist\n",
    "    length_dist_token[\"resolution\"] = res\n",
    "    length_dist_table = pd.merge(length_dist_table,length_dist_token,how='outer')"
   ]
  },
  {
   "cell_type": "code",
   "execution_count": 57,
   "metadata": {},
   "outputs": [
    {
     "data": {
      "text/html": [
       "<div>\n",
       "<style scoped>\n",
       "    .dataframe tbody tr th:only-of-type {\n",
       "        vertical-align: middle;\n",
       "    }\n",
       "\n",
       "    .dataframe tbody tr th {\n",
       "        vertical-align: top;\n",
       "    }\n",
       "\n",
       "    .dataframe thead th {\n",
       "        text-align: right;\n",
       "    }\n",
       "</style>\n",
       "<table border=\"1\" class=\"dataframe\">\n",
       "  <thead>\n",
       "    <tr style=\"text-align: right;\">\n",
       "      <th></th>\n",
       "      <th>resolution</th>\n",
       "      <th>length</th>\n",
       "    </tr>\n",
       "  </thead>\n",
       "  <tbody>\n",
       "    <tr>\n",
       "      <th>0</th>\n",
       "      <td>200</td>\n",
       "      <td>19400</td>\n",
       "    </tr>\n",
       "    <tr>\n",
       "      <th>1</th>\n",
       "      <td>200</td>\n",
       "      <td>19400</td>\n",
       "    </tr>\n",
       "    <tr>\n",
       "      <th>2</th>\n",
       "      <td>200</td>\n",
       "      <td>19400</td>\n",
       "    </tr>\n",
       "    <tr>\n",
       "      <th>3</th>\n",
       "      <td>200</td>\n",
       "      <td>19400</td>\n",
       "    </tr>\n",
       "    <tr>\n",
       "      <th>4</th>\n",
       "      <td>200</td>\n",
       "      <td>19400</td>\n",
       "    </tr>\n",
       "    <tr>\n",
       "      <th>...</th>\n",
       "      <td>...</td>\n",
       "      <td>...</td>\n",
       "    </tr>\n",
       "    <tr>\n",
       "      <th>34461</th>\n",
       "      <td>50000</td>\n",
       "      <td>1550000</td>\n",
       "    </tr>\n",
       "    <tr>\n",
       "      <th>34462</th>\n",
       "      <td>50000</td>\n",
       "      <td>2550000</td>\n",
       "    </tr>\n",
       "    <tr>\n",
       "      <th>34463</th>\n",
       "      <td>50000</td>\n",
       "      <td>1950000</td>\n",
       "    </tr>\n",
       "    <tr>\n",
       "      <th>34464</th>\n",
       "      <td>50000</td>\n",
       "      <td>1950000</td>\n",
       "    </tr>\n",
       "    <tr>\n",
       "      <th>34465</th>\n",
       "      <td>50000</td>\n",
       "      <td>1950000</td>\n",
       "    </tr>\n",
       "  </tbody>\n",
       "</table>\n",
       "<p>34466 rows × 2 columns</p>\n",
       "</div>"
      ],
      "text/plain": [
       "       resolution   length\n",
       "0             200    19400\n",
       "1             200    19400\n",
       "2             200    19400\n",
       "3             200    19400\n",
       "4             200    19400\n",
       "...           ...      ...\n",
       "34461       50000  1550000\n",
       "34462       50000  2550000\n",
       "34463       50000  1950000\n",
       "34464       50000  1950000\n",
       "34465       50000  1950000\n",
       "\n",
       "[34466 rows x 2 columns]"
      ]
     },
     "execution_count": 57,
     "metadata": {},
     "output_type": "execute_result"
    }
   ],
   "source": [
    "length_dist_table"
   ]
  },
  {
   "cell_type": "code",
   "execution_count": 58,
   "metadata": {},
   "outputs": [
    {
     "data": {
      "text/plain": [
       "<AxesSubplot:xlabel='resolution', ylabel='Count'>"
      ]
     },
     "execution_count": 58,
     "metadata": {},
     "output_type": "execute_result"
    },
    {
     "data": {
      "image/png": "[encoded data removed]",
      "text/plain": [
       "<Figure size 432x288 with 1 Axes>"
      ]
     },
     "metadata": {},
     "output_type": "display_data"
    }
   ],
   "source": [
    "sns.histplot(length_dist_table[\"resolution\"])"
   ]
  },
  {
   "cell_type": "code",
   "execution_count": 68,
   "metadata": {},
   "outputs": [
    {
     "data": {
      "image/png": "[encoded data removed]",
      "text/plain": [
       "<Figure size 864x864 with 1 Axes>"
      ]
     },
     "metadata": {},
     "output_type": "display_data"
    }
   ],
   "source": [
    "fig, ax = plt.subplots(figsize = (12,12))\n",
    "sns.set_style(\"ticks\")\n",
    "ax.set_yscale(\"log\")\n",
    "ax = sns.boxplot(x=\"resolution\",y=\"length\",data=length_dist_table)\n",
    "plt.savefig(\"boundary_dist.pdf\")"
   ]
  },
  {
   "cell_type": "code",
   "execution_count": 69,
   "metadata": {},
   "outputs": [
    {
     "name": "stdout",
     "output_type": "stream",
     "text": [
      "reolution:200\n",
      "num 14508\n",
      "median 7000.0\n",
      "\n",
      "\n",
      "reolution:400\n",
      "num 6607\n",
      "median 14000.0\n",
      "\n",
      "\n",
      "reolution:600\n",
      "num 4471\n",
      "median 19800.0\n",
      "\n",
      "\n",
      "reolution:800\n",
      "num 3342\n",
      "median 26400.0\n",
      "\n",
      "\n",
      "reolution:1000\n",
      "num 2747\n",
      "median 32000.0\n",
      "\n",
      "\n",
      "reolution:2000\n",
      "num 1386\n",
      "median 64000.0\n",
      "\n",
      "\n",
      "reolution:4000\n",
      "num 754\n",
      "median 136000.0\n",
      "\n",
      "\n",
      "reolution:10000\n",
      "num 352\n",
      "median 290000.0\n",
      "\n",
      "\n",
      "reolution:20000\n",
      "num 210\n",
      "median 480000.0\n",
      "\n",
      "\n",
      "reolution:50000\n",
      "num 89\n",
      "median 950000.0\n",
      "\n",
      "\n"
     ]
    }
   ],
   "source": [
    "#Boundaryの数を出力\n",
    "for res in resolution_list:\n",
    "    print(\"reolution:\"+str(res))\n",
    "    print(\"num\",len(length_dist_table[length_dist_table[\"resolution\"] == res]))\n",
    "    print(\"median\",length_dist_table[length_dist_table[\"resolution\"] == res][\"length\"].median())\n",
    "    print(\"\\n\")"
   ]
  },
  {
   "cell_type": "code",
   "execution_count": null,
   "metadata": {},
   "outputs": [],
   "source": []
  }
 ],
 "metadata": {
  "kernelspec": {
   "display_name": "Python 3",
   "language": "python",
   "name": "python3"
  },
  "language_info": {
   "codemirror_mode": {
    "name": "ipython",
    "version": 3
   },
   "file_extension": ".py",
   "mimetype": "text/x-python",
   "name": "python",
   "nbconvert_exporter": "python",
   "pygments_lexer": "ipython3",
   "version": "3.8.5"
  }
 },
 "nbformat": 4,
 "nbformat_minor": 4
}
