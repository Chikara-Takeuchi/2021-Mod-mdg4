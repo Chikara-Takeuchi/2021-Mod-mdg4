{
 "cells": [
  {
   "cell_type": "code",
   "execution_count": 37,
   "metadata": {},
   "outputs": [],
   "source": [
    "%matplotlib inline\n",
    "import matplotlib.pyplot as plt\n",
    "import seaborn as sns\n",
    "import multiprocess as mp\n",
    "import numpy as np\n",
    "import pandas as pd\n",
    "import pypairix\n",
    "import bioframe\n",
    "import cooltools\n",
    "import cooltools.insulation\n",
    "import cooler\n",
    "import re\n",
    "\n",
    "import time"
   ]
  },
  {
   "cell_type": "code",
   "execution_count": 38,
   "metadata": {},
   "outputs": [],
   "source": [
    "chr_list = [\"chr2R\", \"chr2L\", \"chr3R\", \"chr3L\", \"chr4\", \"chrX\"]\n",
    "    \n",
    "dm6 = pd.read_csv(\"../../reference/dm6.chrom.sizes\",sep='\\t',squeeze=True,index_col=0,header=None)\n",
    "chromsizes = pd.read_csv(\"../../reference/dm6.chrom.sizes\",sep='\\t',squeeze=True,header=None,index_col=0)\n",
    "\n",
    "#ヘテロクロマチン領域の良くわからないcontigを弾く\n",
    "chromsizes = chromsizes[chromsizes > 1000000]\n",
    "dm6 = dm6[dm6 > 1000000]\n",
    "\n",
    "chromosomes = list(chromsizes.index)\n",
    "\n",
    "binsize = 10000\n",
    "flank = binsize*50"
   ]
  },
  {
   "cell_type": "code",
   "execution_count": 39,
   "metadata": {},
   "outputs": [
    {
     "data": {
      "text/plain": [
       "['chr2L', 'chr2R', 'chr3L', 'chr3R', 'chr4', 'chrX', 'chrY']"
      ]
     },
     "execution_count": 39,
     "metadata": {},
     "output_type": "execute_result"
    }
   ],
   "source": [
    "chromosomes"
   ]
  },
  {
   "cell_type": "code",
   "execution_count": 46,
   "metadata": {},
   "outputs": [],
   "source": [
    "resolution_list=[200,400,600,800,1000,2000,4000,10000,20000,50000]"
   ]
  },
  {
   "cell_type": "code",
   "execution_count": 48,
   "metadata": {},
   "outputs": [],
   "source": [
    "cool_E = []\n",
    "cool_N = []\n",
    "cool_All = []\n",
    "for i, resol in enumerate(resolution_list):\n",
    "    cool_E.append(cooler.Cooler(\"../results/coolers_library_group/siE_library.dm6.mapq_30.200.mcool::resolutions/\"+str(resol)))\n",
    "    cool_N.append(cooler.Cooler(\"../results/coolers_library_group/siN_library.dm6.mapq_30.200.mcool::resolutions/\"+str(resol)))\n",
    "    cool_All.append(cooler.Cooler(\"../results/coolers_library_group/siAll_library.dm6.mapq_30.200.mcool::resolutions/\"+str(resol)))"
   ]
  },
  {
   "cell_type": "markdown",
   "metadata": {},
   "source": [
    "Insulation score(from Hsieh THS Mol Cell 2020)の方法を真似る。\n",
    "200-50000bpのresolutionに対してresolutionの10,25,50,100倍のbinsizeで調べる。\n",
    "\n",
    "window sizeをlistで指定するとむちゃくちゃ遅い、for文で回す。"
   ]
  },
  {
   "cell_type": "code",
   "execution_count": null,
   "metadata": {},
   "outputs": [],
   "source": [
    "resolution_mul_list = [10,25,50,100]\n",
    "for i, resol in enumerate(resolution_list):\n",
    "    for k in resolution_mul_list:\n",
    "        window_size = resol*k\n",
    "        print(\"resolution:\"+str(resol))\n",
    "        print(\"window:\"+str(resol*k))\n",
    "        startTime = time.time()\n",
    "\n",
    "        insulate_E = cooltools.insulation.calculate_insulation_score(cool_E[i],window_size,chromosomes=chromosomes,verbose=True)\n",
    "        insulate_E.to_csv(\"../insulation_score/E_ins_score_\"+str(resol)+\"_window\"+str(window_size)+\".csv\")\n",
    "\n",
    "        insulate_N = cooltools.insulation.calculate_insulation_score(cool_N[i],window_size,chromosomes=chromosomes,verbose=True)\n",
    "        insulate_N.to_csv(\"../insulation_score/N_ins_score_\"+str(resol)+\"_window\"+str(window_size)+\".csv\")\n",
    "\n",
    "        insulate_All = cooltools.insulation.calculate_insulation_score(cool_All[i],window_size,chromosomes=chromosomes,verbose=True)\n",
    "        insulate_All.to_csv(\"../insulation_score/All_ins_score_\"+str(resol)+\"_window\"+str(window_size)+\".csv\")\n",
    "        endTime = time.time()\n",
    "        \n",
    "        print(endTime-startTime)\n"
   ]
  },
  {
   "cell_type": "markdown",
   "metadata": {},
   "source": [
    "とりあえずInsulate scoreを解像度毎にまとめる。その上で、heatmapを作成"
   ]
  },
  {
   "cell_type": "code",
   "execution_count": 71,
   "metadata": {},
   "outputs": [],
   "source": [
    "sample_list = [\"E\",\"N\",\"All\"]\n",
    "\n",
    "for sample in sample_list:\n",
    "    for i, resol in enumerate(resolution_list):\n",
    "        res = []\n",
    "        #csv fileのロード\n",
    "        for k in resolution_mul_list:\n",
    "            window_size = resol*k\n",
    "            res.append(pd.read_csv(\"../insulation_score/raw_data/\"+sample+\"_ins_score_\"+str(resol)+\"_window\"+str(window_size)+\".csv\",index_col=0))\n",
    "        \n",
    "        temp1 = pd.merge(res[0],res[1],on=[\"chrom\",\"start\",\"end\",\"is_bad_bin\"])\n",
    "        temp2 = pd.merge(temp1,res[2],on=[\"chrom\",\"start\",\"end\",\"is_bad_bin\"])\n",
    "        temp3 = pd.merge(temp2,res[3],on=[\"chrom\",\"start\",\"end\",\"is_bad_bin\"])\n",
    "    \n",
    "        temp3.to_csv(\"../insulation_score/\"+sample+\"_ins_score_\"+str(resol)+\".csv\")"
   ]
  },
  {
   "cell_type": "code",
   "execution_count": 91,
   "metadata": {},
   "outputs": [
    {
     "data": {
      "text/html": [
       "<div>\n",
       "<style scoped>\n",
       "    .dataframe tbody tr th:only-of-type {\n",
       "        vertical-align: middle;\n",
       "    }\n",
       "\n",
       "    .dataframe tbody tr th {\n",
       "        vertical-align: top;\n",
       "    }\n",
       "\n",
       "    .dataframe thead th {\n",
       "        text-align: right;\n",
       "    }\n",
       "</style>\n",
       "<table border=\"1\" class=\"dataframe\">\n",
       "  <thead>\n",
       "    <tr style=\"text-align: right;\">\n",
       "      <th></th>\n",
       "      <th>chrom</th>\n",
       "      <th>start</th>\n",
       "      <th>end</th>\n",
       "      <th>is_bad_bin</th>\n",
       "      <th>log2_insulation_score_500000</th>\n",
       "      <th>n_valid_pixels_500000</th>\n",
       "      <th>log2_insulation_score_1250000</th>\n",
       "      <th>n_valid_pixels_1250000</th>\n",
       "      <th>log2_insulation_score_2500000</th>\n",
       "      <th>n_valid_pixels_2500000</th>\n",
       "      <th>log2_insulation_score_5000000</th>\n",
       "      <th>n_valid_pixels_5000000</th>\n",
       "    </tr>\n",
       "  </thead>\n",
       "  <tbody>\n",
       "    <tr>\n",
       "      <th>440</th>\n",
       "      <td>chr2L</td>\n",
       "      <td>22000000</td>\n",
       "      <td>22050000</td>\n",
       "      <td>False</td>\n",
       "      <td>2.236467</td>\n",
       "      <td>29.0</td>\n",
       "      <td>2.467887</td>\n",
       "      <td>87.0</td>\n",
       "      <td>2.234320</td>\n",
       "      <td>231.0</td>\n",
       "      <td>2.026419</td>\n",
       "      <td>531.0</td>\n",
       "    </tr>\n",
       "    <tr>\n",
       "      <th>441</th>\n",
       "      <td>chr2L</td>\n",
       "      <td>22050000</td>\n",
       "      <td>22100000</td>\n",
       "      <td>False</td>\n",
       "      <td>2.042250</td>\n",
       "      <td>24.0</td>\n",
       "      <td>2.311704</td>\n",
       "      <td>72.0</td>\n",
       "      <td>2.084072</td>\n",
       "      <td>192.0</td>\n",
       "      <td>1.894796</td>\n",
       "      <td>442.0</td>\n",
       "    </tr>\n",
       "    <tr>\n",
       "      <th>442</th>\n",
       "      <td>chr2L</td>\n",
       "      <td>22100000</td>\n",
       "      <td>22150000</td>\n",
       "      <td>False</td>\n",
       "      <td>1.737363</td>\n",
       "      <td>15.0</td>\n",
       "      <td>1.898363</td>\n",
       "      <td>61.0</td>\n",
       "      <td>1.771403</td>\n",
       "      <td>153.0</td>\n",
       "      <td>1.609081</td>\n",
       "      <td>353.0</td>\n",
       "    </tr>\n",
       "    <tr>\n",
       "      <th>443</th>\n",
       "      <td>chr2L</td>\n",
       "      <td>22150000</td>\n",
       "      <td>22200000</td>\n",
       "      <td>False</td>\n",
       "      <td>1.307722</td>\n",
       "      <td>8.0</td>\n",
       "      <td>1.447450</td>\n",
       "      <td>46.0</td>\n",
       "      <td>1.344680</td>\n",
       "      <td>115.0</td>\n",
       "      <td>1.218399</td>\n",
       "      <td>265.0</td>\n",
       "    </tr>\n",
       "    <tr>\n",
       "      <th>444</th>\n",
       "      <td>chr2L</td>\n",
       "      <td>22200000</td>\n",
       "      <td>22250000</td>\n",
       "      <td>True</td>\n",
       "      <td>NaN</td>\n",
       "      <td>0.0</td>\n",
       "      <td>0.510214</td>\n",
       "      <td>30.0</td>\n",
       "      <td>0.418284</td>\n",
       "      <td>76.0</td>\n",
       "      <td>0.325872</td>\n",
       "      <td>176.0</td>\n",
       "    </tr>\n",
       "    <tr>\n",
       "      <th>...</th>\n",
       "      <td>...</td>\n",
       "      <td>...</td>\n",
       "      <td>...</td>\n",
       "      <td>...</td>\n",
       "      <td>...</td>\n",
       "      <td>...</td>\n",
       "      <td>...</td>\n",
       "      <td>...</td>\n",
       "      <td>...</td>\n",
       "      <td>...</td>\n",
       "      <td>...</td>\n",
       "      <td>...</td>\n",
       "    </tr>\n",
       "    <tr>\n",
       "      <th>2749</th>\n",
       "      <td>chrY</td>\n",
       "      <td>3450000</td>\n",
       "      <td>3500000</td>\n",
       "      <td>True</td>\n",
       "      <td>NaN</td>\n",
       "      <td>0.0</td>\n",
       "      <td>NaN</td>\n",
       "      <td>8.0</td>\n",
       "      <td>NaN</td>\n",
       "      <td>28.0</td>\n",
       "      <td>NaN</td>\n",
       "      <td>64.0</td>\n",
       "    </tr>\n",
       "    <tr>\n",
       "      <th>2750</th>\n",
       "      <td>chrY</td>\n",
       "      <td>3500000</td>\n",
       "      <td>3550000</td>\n",
       "      <td>False</td>\n",
       "      <td>NaN</td>\n",
       "      <td>2.0</td>\n",
       "      <td>NaN</td>\n",
       "      <td>10.0</td>\n",
       "      <td>NaN</td>\n",
       "      <td>26.0</td>\n",
       "      <td>NaN</td>\n",
       "      <td>66.0</td>\n",
       "    </tr>\n",
       "    <tr>\n",
       "      <th>2751</th>\n",
       "      <td>chrY</td>\n",
       "      <td>3550000</td>\n",
       "      <td>3600000</td>\n",
       "      <td>False</td>\n",
       "      <td>NaN</td>\n",
       "      <td>3.0</td>\n",
       "      <td>NaN</td>\n",
       "      <td>9.0</td>\n",
       "      <td>NaN</td>\n",
       "      <td>21.0</td>\n",
       "      <td>NaN</td>\n",
       "      <td>51.0</td>\n",
       "    </tr>\n",
       "    <tr>\n",
       "      <th>2752</th>\n",
       "      <td>chrY</td>\n",
       "      <td>3600000</td>\n",
       "      <td>3650000</td>\n",
       "      <td>False</td>\n",
       "      <td>NaN</td>\n",
       "      <td>3.0</td>\n",
       "      <td>NaN</td>\n",
       "      <td>7.0</td>\n",
       "      <td>NaN</td>\n",
       "      <td>13.0</td>\n",
       "      <td>NaN</td>\n",
       "      <td>35.0</td>\n",
       "    </tr>\n",
       "    <tr>\n",
       "      <th>2753</th>\n",
       "      <td>chrY</td>\n",
       "      <td>3650000</td>\n",
       "      <td>3667352</td>\n",
       "      <td>False</td>\n",
       "      <td>NaN</td>\n",
       "      <td>2.0</td>\n",
       "      <td>NaN</td>\n",
       "      <td>4.0</td>\n",
       "      <td>NaN</td>\n",
       "      <td>7.0</td>\n",
       "      <td>NaN</td>\n",
       "      <td>18.0</td>\n",
       "    </tr>\n",
       "  </tbody>\n",
       "</table>\n",
       "<p>2314 rows × 12 columns</p>\n",
       "</div>"
      ],
      "text/plain": [
       "      chrom     start       end  is_bad_bin  log2_insulation_score_500000  \\\n",
       "440   chr2L  22000000  22050000       False                      2.236467   \n",
       "441   chr2L  22050000  22100000       False                      2.042250   \n",
       "442   chr2L  22100000  22150000       False                      1.737363   \n",
       "443   chr2L  22150000  22200000       False                      1.307722   \n",
       "444   chr2L  22200000  22250000        True                           NaN   \n",
       "...     ...       ...       ...         ...                           ...   \n",
       "2749   chrY   3450000   3500000        True                           NaN   \n",
       "2750   chrY   3500000   3550000       False                           NaN   \n",
       "2751   chrY   3550000   3600000       False                           NaN   \n",
       "2752   chrY   3600000   3650000       False                           NaN   \n",
       "2753   chrY   3650000   3667352       False                           NaN   \n",
       "\n",
       "      n_valid_pixels_500000  log2_insulation_score_1250000  \\\n",
       "440                    29.0                       2.467887   \n",
       "441                    24.0                       2.311704   \n",
       "442                    15.0                       1.898363   \n",
       "443                     8.0                       1.447450   \n",
       "444                     0.0                       0.510214   \n",
       "...                     ...                            ...   \n",
       "2749                    0.0                            NaN   \n",
       "2750                    2.0                            NaN   \n",
       "2751                    3.0                            NaN   \n",
       "2752                    3.0                            NaN   \n",
       "2753                    2.0                            NaN   \n",
       "\n",
       "      n_valid_pixels_1250000  log2_insulation_score_2500000  \\\n",
       "440                     87.0                       2.234320   \n",
       "441                     72.0                       2.084072   \n",
       "442                     61.0                       1.771403   \n",
       "443                     46.0                       1.344680   \n",
       "444                     30.0                       0.418284   \n",
       "...                      ...                            ...   \n",
       "2749                     8.0                            NaN   \n",
       "2750                    10.0                            NaN   \n",
       "2751                     9.0                            NaN   \n",
       "2752                     7.0                            NaN   \n",
       "2753                     4.0                            NaN   \n",
       "\n",
       "      n_valid_pixels_2500000  log2_insulation_score_5000000  \\\n",
       "440                    231.0                       2.026419   \n",
       "441                    192.0                       1.894796   \n",
       "442                    153.0                       1.609081   \n",
       "443                    115.0                       1.218399   \n",
       "444                     76.0                       0.325872   \n",
       "...                      ...                            ...   \n",
       "2749                    28.0                            NaN   \n",
       "2750                    26.0                            NaN   \n",
       "2751                    21.0                            NaN   \n",
       "2752                    13.0                            NaN   \n",
       "2753                     7.0                            NaN   \n",
       "\n",
       "      n_valid_pixels_5000000  \n",
       "440                    531.0  \n",
       "441                    442.0  \n",
       "442                    353.0  \n",
       "443                    265.0  \n",
       "444                    176.0  \n",
       "...                      ...  \n",
       "2749                    64.0  \n",
       "2750                    66.0  \n",
       "2751                    51.0  \n",
       "2752                    35.0  \n",
       "2753                    18.0  \n",
       "\n",
       "[2314 rows x 12 columns]"
      ]
     },
     "execution_count": 91,
     "metadata": {},
     "output_type": "execute_result"
    }
   ],
   "source": [
    "temp3.iloc[440:]"
   ]
  },
  {
   "cell_type": "code",
   "execution_count": 129,
   "metadata": {},
   "outputs": [
    {
     "data": {
      "text/html": [
       "<div>\n",
       "<style scoped>\n",
       "    .dataframe tbody tr th:only-of-type {\n",
       "        vertical-align: middle;\n",
       "    }\n",
       "\n",
       "    .dataframe tbody tr th {\n",
       "        vertical-align: top;\n",
       "    }\n",
       "\n",
       "    .dataframe thead th {\n",
       "        text-align: right;\n",
       "    }\n",
       "</style>\n",
       "<table border=\"1\" class=\"dataframe\">\n",
       "  <thead>\n",
       "    <tr style=\"text-align: right;\">\n",
       "      <th></th>\n",
       "      <th>log2_insulation_score_40000</th>\n",
       "      <th>log2_insulation_score_100000</th>\n",
       "      <th>log2_insulation_score_200000</th>\n",
       "      <th>log2_insulation_score_400000</th>\n",
       "    </tr>\n",
       "  </thead>\n",
       "  <tbody>\n",
       "    <tr>\n",
       "      <th>log2_insulation_score_40000</th>\n",
       "      <td>1.000000</td>\n",
       "      <td>0.745467</td>\n",
       "      <td>0.565308</td>\n",
       "      <td>0.461181</td>\n",
       "    </tr>\n",
       "    <tr>\n",
       "      <th>log2_insulation_score_100000</th>\n",
       "      <td>0.745467</td>\n",
       "      <td>1.000000</td>\n",
       "      <td>0.900137</td>\n",
       "      <td>0.789956</td>\n",
       "    </tr>\n",
       "    <tr>\n",
       "      <th>log2_insulation_score_200000</th>\n",
       "      <td>0.565308</td>\n",
       "      <td>0.900137</td>\n",
       "      <td>1.000000</td>\n",
       "      <td>0.941263</td>\n",
       "    </tr>\n",
       "    <tr>\n",
       "      <th>log2_insulation_score_400000</th>\n",
       "      <td>0.461181</td>\n",
       "      <td>0.789956</td>\n",
       "      <td>0.941263</td>\n",
       "      <td>1.000000</td>\n",
       "    </tr>\n",
       "  </tbody>\n",
       "</table>\n",
       "</div>"
      ],
      "text/plain": [
       "                              log2_insulation_score_40000  \\\n",
       "log2_insulation_score_40000                      1.000000   \n",
       "log2_insulation_score_100000                     0.745467   \n",
       "log2_insulation_score_200000                     0.565308   \n",
       "log2_insulation_score_400000                     0.461181   \n",
       "\n",
       "                              log2_insulation_score_100000  \\\n",
       "log2_insulation_score_40000                       0.745467   \n",
       "log2_insulation_score_100000                      1.000000   \n",
       "log2_insulation_score_200000                      0.900137   \n",
       "log2_insulation_score_400000                      0.789956   \n",
       "\n",
       "                              log2_insulation_score_200000  \\\n",
       "log2_insulation_score_40000                       0.565308   \n",
       "log2_insulation_score_100000                      0.900137   \n",
       "log2_insulation_score_200000                      1.000000   \n",
       "log2_insulation_score_400000                      0.941263   \n",
       "\n",
       "                              log2_insulation_score_400000  \n",
       "log2_insulation_score_40000                       0.461181  \n",
       "log2_insulation_score_100000                      0.789956  \n",
       "log2_insulation_score_200000                      0.941263  \n",
       "log2_insulation_score_400000                      1.000000  "
      ]
     },
     "execution_count": 129,
     "metadata": {},
     "output_type": "execute_result"
    }
   ],
   "source": [
    "import seaborn as sns\n",
    "import math\n",
    "\n",
    "resolution = 4000\n",
    "test = pd.read_csv(\"../insulation_score/Total_data/E_ins_score_\"+str(resolution)+\".csv\",index_col=0)\n",
    "test.loc[:,[\"log2_insulation_score_\"+str(resolution*resolution_mul_list[0]),\n",
    "            \"log2_insulation_score_\"+str(resolution*resolution_mul_list[1]),\n",
    "            \"log2_insulation_score_\"+str(resolution*resolution_mul_list[2]),\n",
    "            \"log2_insulation_score_\"+str(resolution*resolution_mul_list[3])]].corr()"
   ]
  },
  {
   "cell_type": "code",
   "execution_count": 131,
   "metadata": {},
   "outputs": [
    {
     "data": {
      "text/plain": [
       "349.83291585044657"
      ]
     },
     "execution_count": 131,
     "metadata": {},
     "output_type": "execute_result"
    }
   ],
   "source": [
    "test[\"log2_insulation_score_40000\"].sum()"
   ]
  },
  {
   "cell_type": "code",
   "execution_count": 132,
   "metadata": {},
   "outputs": [
    {
     "data": {
      "text/plain": [
       "2012.0508121693244"
      ]
     },
     "execution_count": 132,
     "metadata": {},
     "output_type": "execute_result"
    }
   ],
   "source": [
    "test[\"log2_insulation_score_100000\"].sum()"
   ]
  },
  {
   "cell_type": "code",
   "execution_count": 133,
   "metadata": {},
   "outputs": [
    {
     "data": {
      "text/plain": [
       "4529.114506594298"
      ]
     },
     "execution_count": 133,
     "metadata": {},
     "output_type": "execute_result"
    }
   ],
   "source": [
    "test[\"log2_insulation_score_200000\"].sum()"
   ]
  },
  {
   "cell_type": "code",
   "execution_count": 134,
   "metadata": {},
   "outputs": [
    {
     "data": {
      "text/plain": [
       "6757.990655943681"
      ]
     },
     "execution_count": 134,
     "metadata": {},
     "output_type": "execute_result"
    }
   ],
   "source": [
    "test[\"log2_insulation_score_400000\"].sum()"
   ]
  },
  {
   "cell_type": "code",
   "execution_count": 102,
   "metadata": {},
   "outputs": [],
   "source": [
    "#bedgraphで出力するファイルを作成\n",
    "\n",
    "for k in resolution_mul_list:\n",
    "    content = 'track type=bedGraph name=\"BedGraph Format\" description=\"BedGraph format\" visibility=full color=200,100,0 altColor=0,100,200 priority=20\\n'\n",
    "    for index, row in test.iterrows():\n",
    "        if row[\"is_bad_bin\"] == False and not math.isnan(row[\"log2_insulation_score_\"+str(resolution*k)]):\n",
    "            content = content + row[\"chrom\"]+'\\t'+str(row[\"start\"])+'\\t'+str(row[\"end\"])+'\\t'+str(row[\"log2_insulation_score_\"+str(resolution*k)])+'\\n'\n",
    "\n",
    "    f = open('../insulation_score/res'+str(resolution)+'_window'+str(k)+'.bdg', 'w')\n",
    "    f.write(content)\n",
    "    f.close()"
   ]
  },
  {
   "cell_type": "markdown",
   "metadata": {},
   "source": [
    "IGVで比較。相関係数のわりに、最小の点はそんなに変わらない。\n",
    "あとは見た目の問題だが、x10のwindowで特に問題なさそう。\n",
    "だけど、ノイズが多い気がするのでx25を使用"
   ]
  },
  {
   "cell_type": "code",
   "execution_count": 167,
   "metadata": {},
   "outputs": [],
   "source": [
    "import math\n",
    "mul_factor = 25\n",
    "for sample in sample_list:\n",
    "    for i, resol in enumerate(resolution_list):\n",
    "        test = pd.read_csv(\"../insulation_score/Total_data/\"+sample+\"_ins_score_\"+str(resol)+\".csv\",index_col=0)\n",
    "\n",
    "        f = open('../insulation_score/'+sample+'_res'+str(resol)+'_window'+str(mul_factor)+'.bdg', 'w')\n",
    "        f.write('track type=bedGraph name=\"BedGraph Format\" description=\"BedGraph format\" visibility=full color=200,100,0 altColor=0,100,200 priority=20\\n')\n",
    "        for index, row in test.iterrows():\n",
    "            if row[\"is_bad_bin\"] == False and not math.isnan(row[\"log2_insulation_score_\"+str(resol*mul_factor)]):\n",
    "                f.write(row[\"chrom\"]+'\\t'+str(row[\"start\"])+'\\t'+str(row[\"end\"])+'\\t'+str(row[\"log2_insulation_score_\"+str(resol*mul_factor)])+'\\n')\n",
    "        f.close()"
   ]
  },
  {
   "cell_type": "markdown",
   "metadata": {},
   "source": [
    "それぞれのinsulation scoreから、Boundaryを検出"
   ]
  },
  {
   "cell_type": "code",
   "execution_count": 168,
   "metadata": {},
   "outputs": [
    {
     "name": "stdout",
     "output_type": "stream",
     "text": [
      "0.1266741387490575\n",
      "0.16394953414195884\n",
      "0.193776568409469\n",
      "0.22024946693031655\n",
      "0.23589398767493985\n",
      "0.30151675500047553\n",
      "0.3407904395112674\n",
      "0.37586725810455546\n",
      "0.3688364481320071\n",
      "0.2776641048047136\n"
     ]
    }
   ],
   "source": [
    "for i, resol in enumerate(resolution_list):\n",
    "\n",
    "    test = pd.read_csv(\"../insulation_score/raw_data/E_ins_score_\"+str(resol)+\"_window\"+str(resol*mul_factor)+\".csv\",index_col=0)\n",
    "    boundary = cooltools.insulation.find_boundaries(test).dropna(subset=[\"boundary_strength_\"+str(resol*mul_factor)])\n",
    "\n",
    "    boundary[\"name\"] = \"boundary\"\n",
    "    cutoff = boundary[\"boundary_strength_\"+str(resol*mul_factor)].mean()\n",
    "    print(cutoff)\n",
    "\n",
    "    boudary_out = boundary[(boundary[\"is_bad_bin\"]==False) & (boundary[\"boundary_strength_\"+str(resol*mul_factor)] > cutoff)].loc[:,[\"chrom\",\"start\",\"end\",\"name\",\"boundary_strength_\"+str(resol*mul_factor)]]\n",
    "    boudary_out.to_csv(\"../insulation_score/E_res\"+str(resol)+\"_window\"+str(mul_factor)+\"_boundary.bed\",sep=\"\\t\",header=False, index=False)\n"
   ]
  },
  {
   "cell_type": "markdown",
   "metadata": {},
   "source": [
    "KDで何が起こるかをみるため、Insulation scoreの差を取る(Window sizeはx25で)。"
   ]
  },
  {
   "cell_type": "code",
   "execution_count": 202,
   "metadata": {},
   "outputs": [],
   "source": [
    "mul_factor = 25\n",
    "\n",
    "resol = 400\n",
    "diff_file_E = pd.read_csv(\"../insulation_score/Total_data/E_ins_score_\"+str(resol)+\".csv\",index_col=0)\n",
    "diff_file_N = pd.read_csv(\"../insulation_score/Total_data/N_ins_score_\"+str(resol)+\".csv\",index_col=0)\n",
    "Total_diff = pd.merge(diff_file_E,diff_file_N,on=[\"chrom\",\"start\",\"end\",\"is_bad_bin\"],suffixes=['_E', '_N'])\n",
    "Total_diff[\"diff\"] = Total_diff[\"log2_insulation_score_\"+str(mul_factor*resol)+\"_E\"] - Total_diff[\"log2_insulation_score_\"+str(mul_factor*resol)+\"_N\"]\n",
    "\n",
    "#あやしいtileをはずす\n",
    "Total_diff = Total_diff[(Total_diff[\"is_bad_bin\"] == False) & (Total_diff[\"n_valid_pixels_\"+str(resol*mul_factor)+\"_E\"]>600)]"
   ]
  },
  {
   "cell_type": "code",
   "execution_count": 228,
   "metadata": {},
   "outputs": [
    {
     "name": "stdout",
     "output_type": "stream",
     "text": [
      "(205182, 21)\n",
      "0.21902441695586228\n",
      "-0.21284889063085463\n"
     ]
    }
   ],
   "source": [
    "print(Total_diff.shape)\n",
    "\n",
    "upper_limit = Total_diff[\"diff\"].quantile(0.999)\n",
    "lower_limit = Total_diff[\"diff\"].quantile(0.001)\n",
    "\n",
    "print(upper_limit)\n",
    "print(lower_limit)"
   ]
  },
  {
   "cell_type": "code",
   "execution_count": 229,
   "metadata": {},
   "outputs": [
    {
     "data": {
      "text/plain": [
       "<AxesSubplot:xlabel='diff', ylabel='Count'>"
      ]
     },
     "execution_count": 229,
     "metadata": {},
     "output_type": "execute_result"
    },
    {
     "data": {
      "image/png": "[encoded data removed]",
      "text/plain": [
       "<Figure size 432x288 with 1 Axes>"
      ]
     },
     "metadata": {
      "needs_background": "light"
     },
     "output_type": "display_data"
    }
   ],
   "source": [
    "sns.histplot(Total_diff[\"diff\"])"
   ]
  },
  {
   "cell_type": "code",
   "execution_count": 230,
   "metadata": {},
   "outputs": [
    {
     "name": "stderr",
     "output_type": "stream",
     "text": [
      "<ipython-input-230-89a1d7f8aa5d>:2: SettingWithCopyWarning: \n",
      "A value is trying to be set on a copy of a slice from a DataFrame.\n",
      "Try using .loc[row_indexer,col_indexer] = value instead\n",
      "\n",
      "See the caveats in the documentation: https://pandas.pydata.org/pandas-docs/stable/user_guide/indexing.html#returning-a-view-versus-a-copy\n",
      "  insulate_up[\"name\"] = \"change\"\n",
      "<ipython-input-230-89a1d7f8aa5d>:5: SettingWithCopyWarning: \n",
      "A value is trying to be set on a copy of a slice from a DataFrame.\n",
      "Try using .loc[row_indexer,col_indexer] = value instead\n",
      "\n",
      "See the caveats in the documentation: https://pandas.pydata.org/pandas-docs/stable/user_guide/indexing.html#returning-a-view-versus-a-copy\n",
      "  insulate_down[\"name\"] = \"change\"\n"
     ]
    }
   ],
   "source": [
    "insulate_up = Total_diff[Total_diff[\"diff\"] > upper_limit]\n",
    "insulate_up[\"name\"] = \"change\"\n",
    "\n",
    "insulate_down = Total_diff[Total_diff[\"diff\"] < lower_limit]\n",
    "insulate_down[\"name\"] = \"change\""
   ]
  },
  {
   "cell_type": "code",
   "execution_count": 231,
   "metadata": {},
   "outputs": [
    {
     "data": {
      "text/plain": [
       "-0.2625364567468008"
      ]
     },
     "execution_count": 231,
     "metadata": {},
     "output_type": "execute_result"
    }
   ],
   "source": [
    "insulate_down[\"diff\"].mean()"
   ]
  },
  {
   "cell_type": "code",
   "execution_count": 232,
   "metadata": {},
   "outputs": [],
   "source": [
    "insulate_up.to_csv(\"../insulation_score/insulation_up.bed\",columns=[\"chrom\",\"start\",\"end\",\"name\",\"diff\"],sep=\"\\t\",header=False, index=False)\n",
    "insulate_down.to_csv(\"../insulation_score/insulation_down.bed\",columns=[\"chrom\",\"start\",\"end\",\"name\",\"diff\"],sep=\"\\t\",header=False, index=False)"
   ]
  },
  {
   "cell_type": "code",
   "execution_count": null,
   "metadata": {},
   "outputs": [],
   "source": []
  }
 ],
 "metadata": {
  "kernelspec": {
   "display_name": "Python 3 (ipykernel)",
   "language": "python",
   "name": "python3"
  },
  "language_info": {
   "codemirror_mode": {
    "name": "ipython",
    "version": 3
   },
   "file_extension": ".py",
   "mimetype": "text/x-python",
   "name": "python",
   "nbconvert_exporter": "python",
   "pygments_lexer": "ipython3",
   "version": "3.8.5"
  }
 },
 "nbformat": 4,
 "nbformat_minor": 4
}
